{
 "cells": [
  {
   "cell_type": "code",
   "execution_count": 0,
   "metadata": {
    "application/vnd.databricks.v1+cell": {
     "cellMetadata": {
      "byteLimit": 2048000,
      "rowLimit": 10000
     },
     "inputWidgets": {},
     "nuid": "c385f651-81b4-495a-84f9-550287bb878e",
     "showTitle": false,
     "tableResultSettingsMap": {},
     "title": ""
    }
   },
   "outputs": [],
   "source": [
    "%run \"./reader_factory\""
   ]
  },
  {
   "cell_type": "code",
   "execution_count": 0,
   "metadata": {
    "application/vnd.databricks.v1+cell": {
     "cellMetadata": {
      "byteLimit": 2048000,
      "rowLimit": 10000
     },
     "inputWidgets": {},
     "nuid": "846dbaaa-3fe7-440e-a856-4cd07a6b5541",
     "showTitle": false,
     "tableResultSettingsMap": {},
     "title": ""
    }
   },
   "outputs": [],
   "source": [
    "class Extractor:\n",
    "  \"\"\"\n",
    "  Abstract class\n",
    "  \"\"\"\n",
    "  def __init__(self):\n",
    "    pass\n",
    "  def extract(self):\n",
    "    pass\n",
    "\n",
    "class AirpodsAfterIphoneExtractor(Extractor):\n",
    "  \"\"\"\n",
    "  customers who bought airphones after iphone\n",
    "  \"\"\"\n",
    "  def extract(self):\n",
    "    transactionInputDf= get_data_source(\n",
    "      data_type=\"csv\",\n",
    "      file_path=\"/FileStore/tables/Transaction_Updated.csv\"\n",
    "    ).get_data_frame()\n",
    "    CustomerInputDf= get_data_source(\n",
    "      data_type=\"delta\",\n",
    "      file_path=\"customer_updated_csv\"\n",
    "    ).get_data_frame()\n",
    "\n",
    "    inputDFs = {\"inputDF\":transactionInputDf, \"customerDF\": CustomerInputDf}\n",
    "\n",
    "    return inputDFs"
   ]
  }
 ],
 "metadata": {
  "application/vnd.databricks.v1+notebook": {
   "dashboards": [],
   "environmentMetadata": null,
   "language": "python",
   "notebookMetadata": {
    "pythonIndentUnit": 2
   },
   "notebookName": "Extraction",
   "widgets": {}
  }
 },
 "nbformat": 4,
 "nbformat_minor": 0
}
