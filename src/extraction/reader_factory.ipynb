{
 "cells": [
  {
   "cell_type": "code",
   "execution_count": 0,
   "metadata": {
    "application/vnd.databricks.v1+cell": {
     "cellMetadata": {
      "byteLimit": 2048000,
      "rowLimit": 10000
     },
     "inputWidgets": {},
     "nuid": "aef29fa7-8045-4169-87c2-ea5bc806d733",
     "showTitle": false,
     "tableResultSettingsMap": {},
     "title": ""
    }
   },
   "outputs": [],
   "source": [
    "class DataSource:\n",
    "  \"\"\"\n",
    "  Abstract class\n",
    "  \"\"\"\n",
    "  def __init__(self,path):\n",
    "    self.path = path\n",
    "\n",
    "  def get_data_frame(self):\n",
    "    \"\"\"\n",
    "    Will be defined in sub classes\n",
    "    \"\"\"\n",
    "    raise ValueError(\"Not implemented\")\n",
    "\n",
    "class CSVDataSource(DataSource):\n",
    "  def get_data_frame(self):\n",
    "    \n",
    "    return (\n",
    "      spark.read.format(\"csv\").option(\"header\",True).load(self.path)\n",
    "    )\n",
    "\n",
    "class ParquetDataSource(DataSource):\n",
    "  def get_data_frame(self):\n",
    "    \n",
    "    return (\n",
    "      spark.read.format(\"parquet\").option(\"header\",True).load(self.path)\n",
    "    )\n",
    "\n",
    "class DeltaDataSource(DataSource):\n",
    "  def get_data_frame(self):\n",
    "    table_name = self.path\n",
    "    return (\n",
    "      spark.read.table(table_name)\n",
    "    )\n",
    "\n",
    "def get_data_source(data_type, file_path):\n",
    "  if data_type == \"csv\":\n",
    "    return CSVDataSource(file_path)\n",
    "  elif data_type == \"parquet\":\n",
    "    return ParquetDataSource(file_path)\n",
    "  elif data_type == \"delta\":\n",
    "    return DeltaDataSource(file_path)\n",
    "  else:\n",
    "    raise ValueError(f\"Not implemented for data_type:{data_type}\")\n"
   ]
  }
 ],
 "metadata": {
  "application/vnd.databricks.v1+notebook": {
   "dashboards": [],
   "environmentMetadata": null,
   "language": "python",
   "notebookMetadata": {
    "pythonIndentUnit": 2
   },
   "notebookName": "reader_factory",
   "widgets": {}
  }
 },
 "nbformat": 4,
 "nbformat_minor": 0
}
