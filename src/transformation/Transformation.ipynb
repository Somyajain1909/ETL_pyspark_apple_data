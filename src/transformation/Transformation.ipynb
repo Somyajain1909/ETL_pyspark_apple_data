{
 "cells": [
  {
   "cell_type": "code",
   "execution_count": 0,
   "metadata": {
    "application/vnd.databricks.v1+cell": {
     "cellMetadata": {
      "byteLimit": 2048000,
      "rowLimit": 10000
     },
     "inputWidgets": {},
     "nuid": "58e8b05a-d3ac-4be8-ae22-b995739a1a7d",
     "showTitle": false,
     "tableResultSettingsMap": {},
     "title": ""
    }
   },
   "outputs": [],
   "source": [
    "from pyspark.sql.window import Window\n",
    "from pyspark.sql.functions import lead, broadcast, collect_set, col, size, array_contains\n",
    "\n",
    "class Transformer:\n",
    "    def __init__(self):\n",
    "        pass\n",
    "\n",
    "    def transform(self):\n",
    "        pass\n",
    "\n",
    "class AirpodsAfterIphoneTransformer(Transformer):\n",
    "    def transform(self, inputDfs):\n",
    "        \"\"\"\n",
    "        Identify customers who have bought AirPods after buying iPhone.\n",
    "        \"\"\"\n",
    "        # Get the input DataFrame from the dictionary\n",
    "        inputDF = inputDfs.get(\"inputDF\")\n",
    "        \n",
    "        # Define the window specification\n",
    "        windowSpec = Window.partitionBy(\"customer_id\").orderBy(\"transaction_date\")\n",
    "\n",
    "        # Add a column for the next product purchased by each customer\n",
    "        transformedDF = inputDF.withColumn(\n",
    "            \"next_product_name\", lead(\"product_name\").over(windowSpec)\n",
    "        )\n",
    "\n",
    "        # Show the transformed DataFrame (to inspect)\n",
    "        print(\"Airpods after buying iPhone:\")\n",
    "\n",
    "        # Filter for customers who bought iPhone and then AirPods\n",
    "        filterDf = transformedDF.filter(\n",
    "            (col(\"product_name\") == \"iPhone\") & (col(\"next_product_name\") == \"AirPods\")\n",
    "        )\n",
    "\n",
    "        # Show the filtered DataFrame (customers who bought AirPods after iPhone)\n",
    "        filterDf.orderBy(\"customer_id\", \"transaction_date\").show()\n",
    "\n",
    "        customerInputDF = inputDfs.get(\"customerDF\")\n",
    "        joinDF = customerInputDF.join(\n",
    "            broadcast(filterDf), \"customer_id\"\n",
    "        )\n",
    "        print(\"JOINED DF\")\n",
    "        joinDF.select(\"customer_id\",\"customer_name\",\"location\").show()\n",
    "        return joinDF\n",
    "    \n",
    "\n",
    "class OnlyAirpodsAndIphoneTransformer(Transformer):\n",
    "\n",
    "    def transform(self, inputDfs):\n",
    "        \"\"\"\n",
    "        Identify customers who have bought only AirPods and iPhone.\n",
    "        \"\"\"\n",
    "        inputDF = inputDfs.get(\"inputDF\")\n",
    "        customerInputDF = inputDfs.get(\"customerDF\")\n",
    "\n",
    "        grouped_DF  = inputDF.groupBy(\"customer_id\").agg(\n",
    "            collect_set(\"product_name\").alias(\"products\")\n",
    "        )\n",
    "        filterDf = grouped_DF.filter(\n",
    "            (array_contains(col(\"products\"), \"iPhone\")) & \n",
    "            (array_contains(col(\"products\"), \"AirPods\")) &\n",
    "            (size(col(\"products\")) == 2)\n",
    "        )\n",
    "        joinDF = customerInputDF.join(\n",
    "            broadcast(filterDf), \"customer_id\"\n",
    "        )\n",
    "        print(\"JOINED DF\")\n",
    "        joinDF.select(\"customer_id\",\"customer_name\",\"products\").show()\n",
    "        return joinDF\n"
   ]
  }
 ],
 "metadata": {
  "application/vnd.databricks.v1+notebook": {
   "dashboards": [],
   "environmentMetadata": null,
   "language": "python",
   "notebookMetadata": {
    "pythonIndentUnit": 2
   },
   "notebookName": "Transformation",
   "widgets": {}
  }
 },
 "nbformat": 4,
 "nbformat_minor": 0
}
