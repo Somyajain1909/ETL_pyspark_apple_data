{
 "cells": [
  {
   "cell_type": "code",
   "execution_count": 0,
   "metadata": {
    "application/vnd.databricks.v1+cell": {
     "cellMetadata": {
      "byteLimit": 2048000,
      "rowLimit": 10000
     },
     "inputWidgets": {},
     "nuid": "7a961584-df2c-453f-b6cc-43ad3590ec65",
     "showTitle": false,
     "tableResultSettingsMap": {},
     "title": ""
    }
   },
   "outputs": [],
   "source": [
    "%run \"./loader_factory\""
   ]
  },
  {
   "cell_type": "code",
   "execution_count": 0,
   "metadata": {
    "application/vnd.databricks.v1+cell": {
     "cellMetadata": {
      "byteLimit": 2048000,
      "rowLimit": 10000
     },
     "inputWidgets": {},
     "nuid": "95cb4505-2318-48fd-9fdf-2b29cbdbf18d",
     "showTitle": false,
     "tableResultSettingsMap": {},
     "title": ""
    }
   },
   "outputs": [],
   "source": [
    "class Loader:\n",
    "  def __init__(self, df):\n",
    "    self.df =  df\n",
    "\n",
    "  def sink(self):\n",
    "    pass\n",
    "\n",
    "class AirPodsAfterIphoneLoader(Loader):\n",
    "  def sink(self):\n",
    "\n",
    "    get_sink_source(sink_type=\"dbfs\",\n",
    "                    df = self.df,\n",
    "                    path = \"/FileStore/tables/outputframe_wf1.csv\",\n",
    "                    method= \"overwrite\").load_data_frame()\n",
    "    \n",
    "class OnlyAirpodsAndIphoneLoader(Loader):\n",
    "  def sink(self):\n",
    "    params = {\n",
    "      \"partitionByColumns\" : [\"location\"]\n",
    "    }\n",
    "    get_sink_source(sink_type=\"dbfs_with_partition\",\n",
    "                    df = self.df,\n",
    "                    path = \"/FileStore/tables/outputframe2.csv\",\n",
    "                    method= \"overwrite\",\n",
    "                    params = params).load_data_frame()\n",
    "    get_sink_source(sink_type=\"delta\",\n",
    "                    df = self.df,\n",
    "                    path = \"outputtable\",\n",
    "                    method= \"overwrite\").load_data_frame()"
   ]
  }
 ],
 "metadata": {
  "application/vnd.databricks.v1+notebook": {
   "dashboards": [],
   "environmentMetadata": null,
   "language": "python",
   "notebookMetadata": {
    "pythonIndentUnit": 2
   },
   "notebookName": "Loading",
   "widgets": {}
  }
 },
 "nbformat": 4,
 "nbformat_minor": 0
}
