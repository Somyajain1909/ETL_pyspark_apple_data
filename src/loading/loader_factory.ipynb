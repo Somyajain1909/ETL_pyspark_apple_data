{
 "cells": [
  {
   "cell_type": "code",
   "execution_count": 0,
   "metadata": {
    "application/vnd.databricks.v1+cell": {
     "cellMetadata": {
      "byteLimit": 2048000,
      "rowLimit": 10000
     },
     "inputWidgets": {},
     "nuid": "a08307c5-af42-48f4-aded-b29ba797ca53",
     "showTitle": false,
     "tableResultSettingsMap": {},
     "title": ""
    }
   },
   "outputs": [],
   "source": [
    "class DataSink:\n",
    "  \"\"\"\n",
    "  Abstract class\n",
    "  \"\"\"\n",
    "  def __init__(self, df, path, method, params = None):\n",
    "    self.df = df\n",
    "    self.path = path\n",
    "    self.method = method\n",
    "    self.params = params\n",
    "\n",
    "  def load_data_frame(self):\n",
    "    \"\"\"\n",
    "    Will be defined in sub classes\n",
    "    \"\"\"\n",
    "    raise ValueError(\"Not implemented\")\n",
    "\n",
    "class LoadToDBFS(DataSink):\n",
    "  def load_data_frame(self):\n",
    "    return (\n",
    "      self.df.write.mode(self.method).save(self.path)\n",
    "    )\n",
    "\n",
    "class LoadToDBFSWithPartition(DataSink):\n",
    "  def load_data_frame(self):\n",
    "    partitionByColumns = self.params.get(\"partitionByColumns\")\n",
    "    return (\n",
    "      self.df.write.mode(self.method).partitionBy(partitionByColumns).save(self.path)\n",
    "    )\n",
    "\n",
    "class LoadToDeltaTable(DataSink):\n",
    "  def load_data_frame(self):\n",
    "    return (\n",
    "      self.df.write.format(\"delta\").mode(self.method).saveAsTable(self.path)\n",
    "    )\n",
    "\n",
    "def get_sink_source(sink_type,df, path, method, params=None):\n",
    "  if sink_type == \"dbfs\":\n",
    "    return LoadToDBFS(df, path, method, params)\n",
    "  elif sink_type == \"dbfs_with_partition\":\n",
    "    return LoadToDBFSWithPartition(df, path, method, params)\n",
    "  elif sink_type == \"delta\":\n",
    "    return LoadToDeltaTable(df, path, method, params)\n",
    "  else:\n",
    "    raise ValueError(f\"Not implemented for sink_type:{sink_type}\")"
   ]
  }
 ],
 "metadata": {
  "application/vnd.databricks.v1+notebook": {
   "dashboards": [],
   "environmentMetadata": null,
   "language": "python",
   "notebookMetadata": {
    "pythonIndentUnit": 2
   },
   "notebookName": "loader_factory",
   "widgets": {}
  }
 },
 "nbformat": 4,
 "nbformat_minor": 0
}
