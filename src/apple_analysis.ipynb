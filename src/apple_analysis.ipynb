{
 "cells": [
  {
   "cell_type": "code",
   "execution_count": 0,
   "metadata": {
    "application/vnd.databricks.v1+cell": {
     "cellMetadata": {
      "byteLimit": 2048000,
      "rowLimit": 10000
     },
     "inputWidgets": {},
     "nuid": "5b3bc06d-48d7-47a6-b465-11dab7cf7c4e",
     "showTitle": false,
     "tableResultSettingsMap": {},
     "title": ""
    }
   },
   "outputs": [],
   "source": [
    "%run \"./Extraction\""
   ]
  },
  {
   "cell_type": "code",
   "execution_count": 0,
   "metadata": {
    "application/vnd.databricks.v1+cell": {
     "cellMetadata": {
      "byteLimit": 2048000,
      "rowLimit": 10000
     },
     "inputWidgets": {},
     "nuid": "b4b9ba3b-1f13-40d8-b5bb-148ffd8a7954",
     "showTitle": false,
     "tableResultSettingsMap": {},
     "title": ""
    }
   },
   "outputs": [],
   "source": [
    "%run \"./Transformation\""
   ]
  },
  {
   "cell_type": "code",
   "execution_count": 0,
   "metadata": {
    "application/vnd.databricks.v1+cell": {
     "cellMetadata": {
      "byteLimit": 2048000,
      "rowLimit": 10000
     },
     "inputWidgets": {},
     "nuid": "2f01b42d-c268-4442-abac-90ab3f6d2d4c",
     "showTitle": false,
     "tableResultSettingsMap": {},
     "title": ""
    }
   },
   "outputs": [],
   "source": [
    "%run \"./Loading\""
   ]
  },
  {
   "cell_type": "code",
   "execution_count": 0,
   "metadata": {
    "application/vnd.databricks.v1+cell": {
     "cellMetadata": {
      "byteLimit": 2048000,
      "rowLimit": 10000
     },
     "inputWidgets": {},
     "nuid": "48aee6fe-f95d-49a8-af00-547316330080",
     "showTitle": false,
     "tableResultSettingsMap": {},
     "title": ""
    }
   },
   "outputs": [],
   "source": [
    "class WorkFlowRunner:\n",
    "  def __init__(self,name):\n",
    "    self.name = name\n",
    "  def runner(self):\n",
    "    if self.name == \"FirstWorkFlow\":\n",
    "      return FirstWorkFlow().runner()\n",
    "    elif self.name == \"SecondWorkFlow\":\n",
    "      return SecondWorkFlow().runner()\n",
    "    else:\n",
    "      raise ValueError(f\"{self.name} workflow is not defined\")"
   ]
  },
  {
   "cell_type": "code",
   "execution_count": 0,
   "metadata": {
    "application/vnd.databricks.v1+cell": {
     "cellMetadata": {
      "byteLimit": 2048000,
      "rowLimit": 10000
     },
     "inputWidgets": {},
     "nuid": "3c955f5c-86d9-4ece-855d-f3ece6228407",
     "showTitle": false,
     "tableResultSettingsMap": {},
     "title": ""
    }
   },
   "outputs": [],
   "source": [
    "class FirstWorkFlow:\n",
    "  def __init__(self):\n",
    "    pass\n",
    "  # Customer who have bought airpods after iphone\n",
    "  def runner(self):\n",
    "    # Step 1 : Extraction from csv and table\n",
    "    inputDFs = AirpodsAfterIphoneExtractor().extract()\n",
    "    \n",
    "    # Step 2 : Transformation to find Customers who have bought airpods after iphone\n",
    "    firstTranform = AirpodsAfterIphoneTransformer().transform(inputDFs)\n",
    "  \n",
    "    # Step 3 : Loading the result into dbfs\n",
    "    AirPodsAfterIphoneLoader(firstTranform).sink()\n",
    " \n",
    "\n",
    "    \n"
   ]
  },
  {
   "cell_type": "code",
   "execution_count": 0,
   "metadata": {
    "application/vnd.databricks.v1+cell": {
     "cellMetadata": {
      "byteLimit": 2048000,
      "rowLimit": 10000
     },
     "inputWidgets": {},
     "nuid": "b6928f81-550a-4a70-849b-a2964ad949d8",
     "showTitle": false,
     "tableResultSettingsMap": {},
     "title": ""
    }
   },
   "outputs": [
    {
     "output_type": "stream",
     "name": "stdout",
     "output_type": "stream",
     "text": [
      "Airpods after buying iPhone:\n+--------------+-----------+------------+----------------+-----------------+\n|transaction_id|customer_id|product_name|transaction_date|next_product_name|\n+--------------+-----------+------------+----------------+-----------------+\n|            11|        105|      iPhone|      2022-02-01|          AirPods|\n|            15|        108|      iPhone|      2022-02-05|          AirPods|\n+--------------+-----------+------------+----------------+-----------------+\n\nJOINED DF\n+-----------+-------------+--------+\n|customer_id|customer_name|location|\n+-----------+-------------+--------+\n|        105|          Eva|    Ohio|\n|        108|        Henry|    Utah|\n+-----------+-------------+--------+\n\n"
     ]
    }
   ],
   "source": [
    "WorkFlowRunner1 = WorkFlowRunner(\"FirstWorkFlow\").runner()\n"
   ]
  },
  {
   "cell_type": "code",
   "execution_count": 0,
   "metadata": {
    "application/vnd.databricks.v1+cell": {
     "cellMetadata": {
      "byteLimit": 2048000,
      "rowLimit": 10000
     },
     "inputWidgets": {},
     "nuid": "c29ede7c-aa18-4dda-adb9-fd0380c3f6a1",
     "showTitle": false,
     "tableResultSettingsMap": {},
     "title": ""
    }
   },
   "outputs": [],
   "source": [
    "class SecondWorkFlow:\n",
    "  def __init__(self):\n",
    "    pass\n",
    "  # Customer who have bought only iphone and airpods\n",
    "  def runner(self):\n",
    "    # Step 1 : Extraction from csv and table (same as 1st one)\n",
    "    inputDFs = AirpodsAfterIphoneExtractor().extract()\n",
    "    \n",
    "    # Step 2 : Transformation to find Customers who have bought airpods and iphone\n",
    "    SecondTranform = OnlyAirpodsAndIphoneTransformer().transform(inputDFs)\n",
    "  \n",
    "    # Step 3 : Loading the result into dbfs\n",
    "    OnlyAirpodsAndIphoneLoader(SecondTranform).sink()\n",
    " \n",
    "\n",
    "    \n"
   ]
  },
  {
   "cell_type": "code",
   "execution_count": 0,
   "metadata": {
    "application/vnd.databricks.v1+cell": {
     "cellMetadata": {
      "byteLimit": 2048000,
      "rowLimit": 10000
     },
     "inputWidgets": {},
     "nuid": "1d8df767-dea9-4ec4-a511-bd4513080b9c",
     "showTitle": false,
     "tableResultSettingsMap": {},
     "title": ""
    }
   },
   "outputs": [
    {
     "output_type": "stream",
     "name": "stdout",
     "output_type": "stream",
     "text": [
      "JOINED DF\n+-----------+-------------+-----------------+\n|customer_id|customer_name|         products|\n+-----------+-------------+-----------------+\n|        107|        Grace|[AirPods, iPhone]|\n|        108|        Henry|[AirPods, iPhone]|\n+-----------+-------------+-----------------+\n\n"
     ]
    }
   ],
   "source": [
    "WorkFlowRunner2 = WorkFlowRunner(\"SecondWorkFlow\").runner()\n"
   ]
  }
 ],
 "metadata": {
  "application/vnd.databricks.v1+notebook": {
   "dashboards": [],
   "environmentMetadata": null,
   "language": "python",
   "notebookMetadata": {
    "pythonIndentUnit": 2
   },
   "notebookName": "apple_analysis",
   "widgets": {}
  }
 },
 "nbformat": 4,
 "nbformat_minor": 0
}
